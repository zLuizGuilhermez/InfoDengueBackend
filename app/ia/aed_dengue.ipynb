{
 "cells": [
  {
   "cell_type": "code",
   "execution_count": 1,
   "id": "80da1527-1da1-4440-a43b-3241d023e39e",
   "metadata": {},
   "outputs": [],
   "source": [
    "import pandas as pd\n",
    "import numpy as np\n",
    "import matplotlib.pyplot as plt\n",
    "import seaborn as srn\n",
    "import os"
   ]
  },
  {
   "cell_type": "code",
   "execution_count": 2,
   "id": "0a13a474-361a-4566-a38a-1d4f2073ce47",
   "metadata": {},
   "outputs": [],
   "source": [
    "dataset = pd.read_csv('dataset.csv')"
   ]
  },
  {
   "cell_type": "code",
   "execution_count": 3,
   "id": "26edff29-ab61-437c-89da-f0a16814bf9a",
   "metadata": {},
   "outputs": [
    {
     "data": {
      "text/html": [
       "<div>\n",
       "<style scoped>\n",
       "    .dataframe tbody tr th:only-of-type {\n",
       "        vertical-align: middle;\n",
       "    }\n",
       "\n",
       "    .dataframe tbody tr th {\n",
       "        vertical-align: top;\n",
       "    }\n",
       "\n",
       "    .dataframe thead th {\n",
       "        text-align: right;\n",
       "    }\n",
       "</style>\n",
       "<table border=\"1\" class=\"dataframe\">\n",
       "  <thead>\n",
       "    <tr style=\"text-align: right;\">\n",
       "      <th></th>\n",
       "      <th>Gender</th>\n",
       "      <th>Age</th>\n",
       "      <th>NS1</th>\n",
       "      <th>IgG</th>\n",
       "      <th>IgM</th>\n",
       "      <th>Area</th>\n",
       "      <th>AreaType</th>\n",
       "      <th>HouseType</th>\n",
       "      <th>District</th>\n",
       "      <th>Outcome</th>\n",
       "    </tr>\n",
       "  </thead>\n",
       "  <tbody>\n",
       "    <tr>\n",
       "      <th>0</th>\n",
       "      <td>Female</td>\n",
       "      <td>45</td>\n",
       "      <td>0</td>\n",
       "      <td>0</td>\n",
       "      <td>0</td>\n",
       "      <td>Mirpur</td>\n",
       "      <td>Undeveloped</td>\n",
       "      <td>Building</td>\n",
       "      <td>Dhaka</td>\n",
       "      <td>0</td>\n",
       "    </tr>\n",
       "    <tr>\n",
       "      <th>1</th>\n",
       "      <td>Male</td>\n",
       "      <td>17</td>\n",
       "      <td>0</td>\n",
       "      <td>0</td>\n",
       "      <td>1</td>\n",
       "      <td>Chawkbazar</td>\n",
       "      <td>Developed</td>\n",
       "      <td>Building</td>\n",
       "      <td>Dhaka</td>\n",
       "      <td>0</td>\n",
       "    </tr>\n",
       "    <tr>\n",
       "      <th>2</th>\n",
       "      <td>Female</td>\n",
       "      <td>29</td>\n",
       "      <td>0</td>\n",
       "      <td>0</td>\n",
       "      <td>0</td>\n",
       "      <td>Paltan</td>\n",
       "      <td>Undeveloped</td>\n",
       "      <td>Other</td>\n",
       "      <td>Dhaka</td>\n",
       "      <td>0</td>\n",
       "    </tr>\n",
       "    <tr>\n",
       "      <th>3</th>\n",
       "      <td>Female</td>\n",
       "      <td>63</td>\n",
       "      <td>1</td>\n",
       "      <td>1</td>\n",
       "      <td>0</td>\n",
       "      <td>Motijheel</td>\n",
       "      <td>Developed</td>\n",
       "      <td>Other</td>\n",
       "      <td>Dhaka</td>\n",
       "      <td>1</td>\n",
       "    </tr>\n",
       "    <tr>\n",
       "      <th>4</th>\n",
       "      <td>Male</td>\n",
       "      <td>22</td>\n",
       "      <td>0</td>\n",
       "      <td>0</td>\n",
       "      <td>0</td>\n",
       "      <td>Gendaria</td>\n",
       "      <td>Undeveloped</td>\n",
       "      <td>Building</td>\n",
       "      <td>Dhaka</td>\n",
       "      <td>0</td>\n",
       "    </tr>\n",
       "    <tr>\n",
       "      <th>...</th>\n",
       "      <td>...</td>\n",
       "      <td>...</td>\n",
       "      <td>...</td>\n",
       "      <td>...</td>\n",
       "      <td>...</td>\n",
       "      <td>...</td>\n",
       "      <td>...</td>\n",
       "      <td>...</td>\n",
       "      <td>...</td>\n",
       "      <td>...</td>\n",
       "    </tr>\n",
       "    <tr>\n",
       "      <th>995</th>\n",
       "      <td>Female</td>\n",
       "      <td>16</td>\n",
       "      <td>1</td>\n",
       "      <td>1</td>\n",
       "      <td>0</td>\n",
       "      <td>New Market</td>\n",
       "      <td>Developed</td>\n",
       "      <td>Building</td>\n",
       "      <td>Dhaka</td>\n",
       "      <td>1</td>\n",
       "    </tr>\n",
       "    <tr>\n",
       "      <th>996</th>\n",
       "      <td>Male</td>\n",
       "      <td>41</td>\n",
       "      <td>1</td>\n",
       "      <td>1</td>\n",
       "      <td>0</td>\n",
       "      <td>Paltan</td>\n",
       "      <td>Undeveloped</td>\n",
       "      <td>Other</td>\n",
       "      <td>Dhaka</td>\n",
       "      <td>1</td>\n",
       "    </tr>\n",
       "    <tr>\n",
       "      <th>997</th>\n",
       "      <td>Male</td>\n",
       "      <td>45</td>\n",
       "      <td>0</td>\n",
       "      <td>0</td>\n",
       "      <td>1</td>\n",
       "      <td>Motijheel</td>\n",
       "      <td>Developed</td>\n",
       "      <td>Building</td>\n",
       "      <td>Dhaka</td>\n",
       "      <td>0</td>\n",
       "    </tr>\n",
       "    <tr>\n",
       "      <th>998</th>\n",
       "      <td>Female</td>\n",
       "      <td>19</td>\n",
       "      <td>1</td>\n",
       "      <td>1</td>\n",
       "      <td>1</td>\n",
       "      <td>Paltan</td>\n",
       "      <td>Undeveloped</td>\n",
       "      <td>Building</td>\n",
       "      <td>Dhaka</td>\n",
       "      <td>1</td>\n",
       "    </tr>\n",
       "    <tr>\n",
       "      <th>999</th>\n",
       "      <td>Female</td>\n",
       "      <td>28</td>\n",
       "      <td>0</td>\n",
       "      <td>0</td>\n",
       "      <td>1</td>\n",
       "      <td>Adabor</td>\n",
       "      <td>Developed</td>\n",
       "      <td>Building</td>\n",
       "      <td>Dhaka</td>\n",
       "      <td>0</td>\n",
       "    </tr>\n",
       "  </tbody>\n",
       "</table>\n",
       "<p>1000 rows × 10 columns</p>\n",
       "</div>"
      ],
      "text/plain": [
       "     Gender  Age  NS1  IgG  IgM        Area     AreaType HouseType District  \\\n",
       "0    Female   45    0    0    0      Mirpur  Undeveloped  Building    Dhaka   \n",
       "1      Male   17    0    0    1  Chawkbazar    Developed  Building    Dhaka   \n",
       "2    Female   29    0    0    0      Paltan  Undeveloped     Other    Dhaka   \n",
       "3    Female   63    1    1    0   Motijheel    Developed     Other    Dhaka   \n",
       "4      Male   22    0    0    0    Gendaria  Undeveloped  Building    Dhaka   \n",
       "..      ...  ...  ...  ...  ...         ...          ...       ...      ...   \n",
       "995  Female   16    1    1    0  New Market    Developed  Building    Dhaka   \n",
       "996    Male   41    1    1    0      Paltan  Undeveloped     Other    Dhaka   \n",
       "997    Male   45    0    0    1   Motijheel    Developed  Building    Dhaka   \n",
       "998  Female   19    1    1    1      Paltan  Undeveloped  Building    Dhaka   \n",
       "999  Female   28    0    0    1      Adabor    Developed  Building    Dhaka   \n",
       "\n",
       "     Outcome  \n",
       "0          0  \n",
       "1          0  \n",
       "2          0  \n",
       "3          1  \n",
       "4          0  \n",
       "..       ...  \n",
       "995        1  \n",
       "996        1  \n",
       "997        0  \n",
       "998        1  \n",
       "999        0  \n",
       "\n",
       "[1000 rows x 10 columns]"
      ]
     },
     "execution_count": 3,
     "metadata": {},
     "output_type": "execute_result"
    }
   ],
   "source": [
    "dataset"
   ]
  },
  {
   "cell_type": "code",
   "execution_count": 4,
   "id": "3e405404-090f-426d-8cda-41c4662dac45",
   "metadata": {},
   "outputs": [
    {
     "data": {
      "text/plain": [
       "Gender\n",
       "Female    524\n",
       "Male      476\n",
       "dtype: int64"
      ]
     },
     "execution_count": 4,
     "metadata": {},
     "output_type": "execute_result"
    }
   ],
   "source": [
    "genero = dataset.groupby(['Gender']).size()\n",
    "genero"
   ]
  },
  {
   "cell_type": "code",
   "execution_count": 5,
   "id": "512cdfe1-56cc-4a26-84d4-8c5a366a3bdc",
   "metadata": {},
   "outputs": [
    {
     "data": {
      "text/plain": [
       "Age\n",
       "8     17\n",
       "9     20\n",
       "10    23\n",
       "11    18\n",
       "12    11\n",
       "13    19\n",
       "14    18\n",
       "15    16\n",
       "16    18\n",
       "17    23\n",
       "18    18\n",
       "19    17\n",
       "20    17\n",
       "21    14\n",
       "22    18\n",
       "23    14\n",
       "24    16\n",
       "25    14\n",
       "26    17\n",
       "27    16\n",
       "28    17\n",
       "29    24\n",
       "30    15\n",
       "31    22\n",
       "32    15\n",
       "33    14\n",
       "34    16\n",
       "35    19\n",
       "36    12\n",
       "37    19\n",
       "38    18\n",
       "39    23\n",
       "40    24\n",
       "41    14\n",
       "42    16\n",
       "43    13\n",
       "44    24\n",
       "45    24\n",
       "46    20\n",
       "47    19\n",
       "48    15\n",
       "49    18\n",
       "50    24\n",
       "51    17\n",
       "52    19\n",
       "53    20\n",
       "54    17\n",
       "55    16\n",
       "56    13\n",
       "57    13\n",
       "58    13\n",
       "59    11\n",
       "60    12\n",
       "61    17\n",
       "62    22\n",
       "63    10\n",
       "64    15\n",
       "65    16\n",
       "dtype: int64"
      ]
     },
     "execution_count": 5,
     "metadata": {},
     "output_type": "execute_result"
    }
   ],
   "source": [
    "idade = dataset.groupby(['Age']).size()\n",
    "idade"
   ]
  },
  {
   "cell_type": "code",
   "execution_count": 6,
   "id": "a021fc2a-a533-4e21-a468-2dfe17c94c61",
   "metadata": {},
   "outputs": [
    {
     "data": {
      "text/plain": [
       "NS1\n",
       "0    481\n",
       "1    519\n",
       "dtype: int64"
      ]
     },
     "execution_count": 6,
     "metadata": {},
     "output_type": "execute_result"
    }
   ],
   "source": [
    "ns1 = dataset.groupby(['NS1']).size()\n",
    "ns1"
   ]
  },
  {
   "cell_type": "code",
   "execution_count": 7,
   "id": "d6c1eb85-7351-4489-a1dd-89782644cdbe",
   "metadata": {},
   "outputs": [
    {
     "data": {
      "text/plain": [
       "IgG\n",
       "0    467\n",
       "1    533\n",
       "dtype: int64"
      ]
     },
     "execution_count": 7,
     "metadata": {},
     "output_type": "execute_result"
    }
   ],
   "source": [
    "igg = dataset.groupby(['IgG']).size()\n",
    "igg"
   ]
  },
  {
   "cell_type": "code",
   "execution_count": 8,
   "id": "eaf01dab-cc65-440d-acda-90eb52a51488",
   "metadata": {},
   "outputs": [
    {
     "data": {
      "text/plain": [
       "IgM\n",
       "0    525\n",
       "1    475\n",
       "dtype: int64"
      ]
     },
     "execution_count": 8,
     "metadata": {},
     "output_type": "execute_result"
    }
   ],
   "source": [
    "igm = dataset.groupby(['IgM']).size()\n",
    "igm"
   ]
  },
  {
   "cell_type": "code",
   "execution_count": 9,
   "id": "bc83399a-b4bd-4ddc-ba79-5b7e3dda2c50",
   "metadata": {},
   "outputs": [
    {
     "data": {
      "text/plain": [
       "Area\n",
       "Adabor                 22\n",
       "Badda                  31\n",
       "Banasree               29\n",
       "Bangshal               34\n",
       "Biman Bandar           30\n",
       "Bosila                 24\n",
       "Cantonment             20\n",
       "Chawkbazar             22\n",
       "Demra                  38\n",
       "Dhanmondi              34\n",
       "Gendaria               22\n",
       "Gulshan                28\n",
       "Hazaribagh             25\n",
       "Jatrabari              38\n",
       "Kadamtali              34\n",
       "Kafrul                 26\n",
       "Kalabagan              27\n",
       "Kamrangirchar          26\n",
       "Keraniganj             33\n",
       "Khilgaon               23\n",
       "Khilkhet               30\n",
       "Lalbagh                17\n",
       "Mirpur                 34\n",
       "Mohammadpur            28\n",
       "Motijheel              27\n",
       "New Market             33\n",
       "Pallabi                23\n",
       "Paltan                 31\n",
       "Ramna                  30\n",
       "Rampura                30\n",
       "Sabujbagh              23\n",
       "Shahbagh               24\n",
       "Sher-e-Bangla Nagar    23\n",
       "Shyampur               19\n",
       "Sutrapur               31\n",
       "Tejgaon                31\n",
       "dtype: int64"
      ]
     },
     "execution_count": 9,
     "metadata": {},
     "output_type": "execute_result"
    }
   ],
   "source": [
    "area = dataset.groupby(['Area']).size()\n",
    "area"
   ]
  },
  {
   "cell_type": "code",
   "execution_count": 10,
   "id": "2156d474-1221-4355-875f-9ba731732d2f",
   "metadata": {},
   "outputs": [
    {
     "data": {
      "text/plain": [
       "AreaType\n",
       "Developed      501\n",
       "Undeveloped    499\n",
       "dtype: int64"
      ]
     },
     "execution_count": 10,
     "metadata": {},
     "output_type": "execute_result"
    }
   ],
   "source": [
    "areat = dataset.groupby(['AreaType']).size()\n",
    "areat"
   ]
  },
  {
   "cell_type": "code",
   "execution_count": 11,
   "id": "6c2e65d9-1c33-4072-9186-d1b6de8a5a14",
   "metadata": {},
   "outputs": [
    {
     "data": {
      "text/plain": [
       "HouseType\n",
       "Building    354\n",
       "Other       329\n",
       "Tinshed     317\n",
       "dtype: int64"
      ]
     },
     "execution_count": 11,
     "metadata": {},
     "output_type": "execute_result"
    }
   ],
   "source": [
    "houset = dataset.groupby(['HouseType']).size()\n",
    "houset"
   ]
  },
  {
   "cell_type": "code",
   "execution_count": 12,
   "id": "09e7e946-0dad-4254-a0a5-da87312a6e4c",
   "metadata": {},
   "outputs": [
    {
     "data": {
      "text/plain": [
       "District\n",
       "Dhaka    1000\n",
       "dtype: int64"
      ]
     },
     "execution_count": 12,
     "metadata": {},
     "output_type": "execute_result"
    }
   ],
   "source": [
    "dataset.groupby(['District']).size()"
   ]
  },
  {
   "cell_type": "code",
   "execution_count": 13,
   "id": "e6427a7b-44f9-43bb-a87d-56a56ec90bed",
   "metadata": {},
   "outputs": [
    {
     "data": {
      "text/plain": [
       "Outcome\n",
       "0    467\n",
       "1    533\n",
       "dtype: int64"
      ]
     },
     "execution_count": 13,
     "metadata": {},
     "output_type": "execute_result"
    }
   ],
   "source": [
    "classe = dataset.groupby(['Outcome']).size()\n",
    "classe"
   ]
  },
  {
   "cell_type": "code",
   "execution_count": 14,
   "id": "4691b8fb-cce1-41eb-85ae-b29567930d7c",
   "metadata": {},
   "outputs": [
    {
     "data": {
      "text/plain": [
       "<Axes: xlabel='HouseType'>"
      ]
     },
     "execution_count": 14,
     "metadata": {},
     "output_type": "execute_result"
    },
    {
     "data": {
      "image/png": "[encoded data removed]",
      "text/plain": [
       "<Figure size 640x480 with 1 Axes>"
      ]
     },
     "metadata": {},
     "output_type": "display_data"
    }
   ],
   "source": [
    "houset.plot.bar(color = 'grey')"
   ]
  },
  {
   "cell_type": "code",
   "execution_count": 15,
   "id": "63c76139-5974-4e5d-b43c-c472f50585de",
   "metadata": {},
   "outputs": [
    {
     "data": {
      "image/png": "[encoded data removed]",
      "text/plain": [
       "<Figure size 700.25x600 with 1 Axes>"
      ]
     },
     "metadata": {},
     "output_type": "display_data"
    }
   ],
   "source": [
    "g= srn.catplot(data=dataset, x='HouseType', y='Age', hue='Gender', alpha=.6, height=6)\n",
    "g.despine(left=True)\n",
    "g.legend.set_title(\"\")"
   ]
  },
  {
   "cell_type": "code",
   "execution_count": 16,
   "id": "e7ade9e0-1977-4992-b533-b567dc09cd3d",
   "metadata": {},
   "outputs": [],
   "source": [
    "os.makedirs('dados_dengue', exist_ok=True)"
   ]
  },
  {
   "cell_type": "code",
   "execution_count": 17,
   "id": "28ccba26-c59a-4622-94f5-ca1eab1edb14",
   "metadata": {},
   "outputs": [
    {
     "name": "stdout",
     "output_type": "stream",
     "text": [
      "Arquivos gerados na pasta dados_dengue\n"
     ]
    }
   ],
   "source": [
    "for i, row in dataset.iterrows():\n",
    "    conteudo = (\n",
    "        f\"Pessoa {i + 1}\\n\"\n",
    "        f\"Genero: {row['Gender']}\\n\"\n",
    "        f\"Idade: {row['Age']}\\n\"\n",
    "        f\"NS1: {row['NS1']}\\n\"\n",
    "        f\"IgG: {row['IgG']}\\n\"\n",
    "        f\"IgM: {row['IgM']}\\n\"\n",
    "        f\"Área: {row['Area']}\\n\"\n",
    "        f\"Tipo de área: {row['AreaType']}\\n\"\n",
    "        f\"Tipo de casa: {row['HouseType']}\\n\"\n",
    "        f\"Outcome: {'Tem dengue' if row['Outcome'] == 1 else 'Não tem dengue'}\\n\"\n",
    "    )\n",
    "\n",
    "    with open(f'dados_dengue/pessoa_{i + 1}.txt', 'w', encoding='utf-8') as file:\n",
    "        file.write(conteudo)\n",
    "\n",
    "print('Arquivos gerados na pasta dados_dengue')"
   ]
  },
  {
   "cell_type": "code",
   "execution_count": 18,
   "id": "d905e2c2-d58f-4bf7-98e0-d2ea6dbd16f4",
   "metadata": {},
   "outputs": [],
   "source": [
    "import ollama"
   ]
  },
  {
   "cell_type": "code",
   "execution_count": 19,
   "id": "159448ce-02fd-4455-89b6-1bf1137ce36f",
   "metadata": {},
   "outputs": [],
   "source": [
    "model = \"gemma2:2b\""
   ]
  },
  {
   "cell_type": "code",
   "execution_count": 20,
   "id": "adbf9bd4-16a2-420d-8641-80c6e9e59a49",
   "metadata": {},
   "outputs": [],
   "source": [
    "resposta = ollama.generate(\n",
    "    model=model,\n",
    "    prompt= \"\"\"responda em portugues, essa pessoa:\n",
    "    Gênero: Feminino\n",
    "\n",
    "Idade: 28 anos\n",
    "\n",
    "IgG: 2.5 (↑ elevado — indica infecção antiga ou secundária)\n",
    "\n",
    "IgM: 4.8 (↑ elevado — indica infecção recente ou ativa)\n",
    "\n",
    "Área: Zona Urbana\n",
    "\n",
    "Tipo de Área: Residencial\n",
    "\n",
    "Tipo de Casa: Casa térrea de alvenaria\n",
    "\n",
    "tem dengue?\n",
    "    \"\"\"\n",
    ")"
   ]
  },
  {
   "cell_type": "code",
   "execution_count": 21,
   "id": "23037e67-fa34-479e-9f7b-8cf8541a9b8c",
   "metadata": {},
   "outputs": [
    {
     "name": "stdout",
     "output_type": "stream",
     "text": [
      "A combinação de IgG elevado e IgM elevado sugere que a pessoa pode ter sido exposta à dengue no passado. No entanto, **não é possível determinar com base nesta informação se a pessoa tem dengue atualmente.** \n",
      "\n",
      "**Por que?**\n",
      "\n",
      "* **IgG alto:** Indica uma infecção passada, mas não necessariamente atual.\n",
      "* **IgM alto:** Indicação de infecção recente ou ativa.\n",
      "\n",
      "Para confirmar se a pessoa está contaminada por dengue, é necessário realizar um exame de diagnóstico específico para a doença (exame de PCR).  A presença de sintomas como febre alta, dor de cabeça intensa, dores musculares e erupções cutâneas também podem indicar dengue. \n",
      "\n",
      "**É importante:**\n",
      "\n",
      "* O paciente deve procurar atendimento médico para receber avaliação adequada.\n",
      "* Não se auto-diagnosticar ou tratar sem orientação médica. \n",
      "\n",
      "\n",
      "Lembre-se: A automedicação pode ser perigosa!\n"
     ]
    }
   ],
   "source": [
    "print(resposta['response'])"
   ]
  },
  {
   "cell_type": "code",
   "execution_count": 22,
   "id": "5b9b61a3-8169-4264-a3e5-e300102972df",
   "metadata": {},
   "outputs": [
    {
     "name": "stdout",
     "output_type": "stream",
     "text": [
      "WARNING:tensorflow:From C:\\Users\\Mateus\\anaconda3\\Lib\\site-packages\\tf_keras\\src\\losses.py:2976: The name tf.losses.sparse_softmax_cross_entropy is deprecated. Please use tf.compat.v1.losses.sparse_softmax_cross_entropy instead.\n",
      "\n"
     ]
    }
   ],
   "source": [
    "from llama_index.core import VectorStoreIndex, SimpleDirectoryReader\n",
    "from llama_index.embeddings.huggingface import HuggingFaceEmbedding\n",
    "from llama_index.llms.ollama import Ollama\n",
    "from llama_index.core.settings import Settings"
   ]
  },
  {
   "cell_type": "code",
   "execution_count": 23,
   "id": "2b46b9a2-d139-408b-88e1-10a189eaeccc",
   "metadata": {},
   "outputs": [],
   "source": [
    "Settings.llm = Ollama(model = model)\n",
    "Settings.embed_model = HuggingFaceEmbedding(model_name=\"BAAI/bge-small-en-v1.5\")"
   ]
  },
  {
   "cell_type": "code",
   "execution_count": 24,
   "id": "484fee4b-0108-4b35-9033-b44ece629375",
   "metadata": {},
   "outputs": [],
   "source": [
    "documentos = SimpleDirectoryReader(\"dados_dengue\").load_data()\n",
    "index = VectorStoreIndex.from_documents(documentos)\n",
    "query_engine = index.as_query_engine()"
   ]
  },
  {
   "cell_type": "code",
   "execution_count": 28,
   "id": "6ea3e046-38eb-4e87-a8cc-26a0548bc01a",
   "metadata": {},
   "outputs": [
    {
     "name": "stdout",
     "output_type": "stream",
     "text": [
      "'Sim, é possível que você esteja com dengue, pois os critérios indicam isso. No entanto, a presença de IgG elevado (1.2), e IgM elevado (5.6) pode indicar infecção recente e reforça o risco de dengue.' \n",
      "\n",
      "**Motivo técnico:** O contexto apresentado leva em consideração a probabilidade de dengue, com base no NS1 positivo e IgM elevado.  A IgG elevado isolado (>1.0) geralmente indica infecção passada, mas se acompanhado de IgM elevado, reforça a presença de dengue recente. Além disso, o tipo de moradia (alvenaria em áreas desenvolvidas) e a área geográfica (Zona Rural) são relevantes para a avaliação da probabilidade de dengue.\n"
     ]
    }
   ],
   "source": [
    "def avaliar_paciente(genero: str, idade: int, ns1: int, igg: int, igm: int, area: str, areat: str, casat: str) -> str:\n",
    "    prompt = (\n",
    "        f\"\"\"Você é um especialista médico em doenças infecciosas. Sua função é avaliar se um paciente possui sinais que indicam dengue, com base nos seguintes critérios médicos:\n",
    "- Lembre-se de responder em Português-BR\n",
    "- NS1 positivo indica alta probabilidade de dengue.\n",
    "- IgM elevado (>1.0) indica infecção recente, compatível com dengue.\n",
    "- IgG elevado isolado (>1.0) geralmente indica infecção passada, mas se acompanhado de IgM elevado, reforça dengue recente.\n",
    "- Febre, área residencial com alta incidência de dengue e tipo de moradia (como alvenaria em áreas desenvolvidas) também são fatores relevantes.\n",
    "\n",
    "Aqui estão os dados do paciente:\n",
    "\n",
    "- Gênero: {genero}\n",
    "- Idade: {idade}\n",
    "- NS1: {ns1}\n",
    "- IgG: {igg}\n",
    "- IgM: {igm}\n",
    "- Área: {area}\n",
    "- Tipo de Área: {areat}\n",
    "- Tipo de casa: {casat}\n",
    "\n",
    "        'Sim, é possível que você esteja com dengue, mas lembre-se de consultar um médico.' \n",
    "        ou\n",
    "        'Não, é improvável que você esteja com dengue, mas lembre-se de consultar um médico.' \n",
    "        Escreva a frase completa.\n",
    "\n",
    "Explique o motivo técnico da sua resposta, sem repetir e em português.\"\"\"\n",
    "\n",
    "\n",
    "\n",
    "    )\n",
    "\n",
    "    resposta = query_engine.query(prompt)\n",
    "    return resposta.response.strip()\n",
    "\n",
    "print(avaliar_paciente(\"Masculino\", 42, 1, 1.2, 5.6, \"Zona Rural\", \"Desenvolvida\", \"Alvenaria\"))"
   ]
  },
  {
   "cell_type": "code",
   "execution_count": null,
   "id": "664afebc-436b-4e2d-a418-bf8e225e48f3",
   "metadata": {},
   "outputs": [],
   "source": []
  }
 ],
 "metadata": {
  "kernelspec": {
   "display_name": "Python 3 (ipykernel)",
   "language": "python",
   "name": "python3"
  },
  "language_info": {
   "codemirror_mode": {
    "name": "ipython",
    "version": 3
   },
   "file_extension": ".py",
   "mimetype": "text/x-python",
   "name": "python",
   "nbconvert_exporter": "python",
   "pygments_lexer": "ipython3",
   "version": "3.12.3"
  }
 },
 "nbformat": 4,
 "nbformat_minor": 5
}
